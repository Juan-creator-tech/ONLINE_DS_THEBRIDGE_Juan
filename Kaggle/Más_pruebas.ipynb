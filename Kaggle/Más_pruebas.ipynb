{
 "cells": [
  {
   "cell_type": "code",
   "execution_count": 10,
   "metadata": {},
   "outputs": [
    {
     "name": "stderr",
     "output_type": "stream",
     "text": [
      "[I 2025-02-10 15:52:03,023] A new study created in memory with name: no-name-4d83d6ad-e35b-4341-a85a-a51ac18b3623\n",
      "c:\\Users\\juanmoreno\\AppData\\Local\\Programs\\Python\\Python312\\Lib\\site-packages\\sklearn\\metrics\\_regression.py:492: FutureWarning: 'squared' is deprecated in version 1.4 and will be removed in 1.6. To calculate the root mean squared error, use the function'root_mean_squared_error'.\n",
      "  warnings.warn(\n",
      "[I 2025-02-10 15:52:03,994] Trial 0 finished with value: 330.2160478300763 and parameters: {'iterations': 1949, 'depth': 8, 'learning_rate': 0.23010246519193533, 'l2_leaf_reg': 3.7969574160521935}. Best is trial 0 with value: 330.2160478300763.\n"
     ]
    },
    {
     "name": "stdout",
     "output_type": "stream",
     "text": [
      "Validation RMSE: 330.2160478300763\n"
     ]
    },
    {
     "name": "stderr",
     "output_type": "stream",
     "text": [
      "c:\\Users\\juanmoreno\\AppData\\Local\\Programs\\Python\\Python312\\Lib\\site-packages\\sklearn\\metrics\\_regression.py:492: FutureWarning: 'squared' is deprecated in version 1.4 and will be removed in 1.6. To calculate the root mean squared error, use the function'root_mean_squared_error'.\n",
      "  warnings.warn(\n",
      "[I 2025-02-10 15:52:04,705] Trial 1 finished with value: 295.85004065173797 and parameters: {'iterations': 591, 'depth': 7, 'learning_rate': 0.17764380674484131, 'l2_leaf_reg': 5.863803929157864}. Best is trial 1 with value: 295.85004065173797.\n"
     ]
    },
    {
     "name": "stdout",
     "output_type": "stream",
     "text": [
      "Validation RMSE: 295.85004065173797\n"
     ]
    },
    {
     "name": "stderr",
     "output_type": "stream",
     "text": [
      "c:\\Users\\juanmoreno\\AppData\\Local\\Programs\\Python\\Python312\\Lib\\site-packages\\sklearn\\metrics\\_regression.py:492: FutureWarning: 'squared' is deprecated in version 1.4 and will be removed in 1.6. To calculate the root mean squared error, use the function'root_mean_squared_error'.\n",
      "  warnings.warn(\n",
      "[I 2025-02-10 15:52:06,159] Trial 2 finished with value: 302.12125753530296 and parameters: {'iterations': 1609, 'depth': 6, 'learning_rate': 0.022107264040416755, 'l2_leaf_reg': 1.8041666664353961}. Best is trial 1 with value: 295.85004065173797.\n"
     ]
    },
    {
     "name": "stdout",
     "output_type": "stream",
     "text": [
      "Validation RMSE: 302.12125753530296\n"
     ]
    },
    {
     "name": "stderr",
     "output_type": "stream",
     "text": [
      "c:\\Users\\juanmoreno\\AppData\\Local\\Programs\\Python\\Python312\\Lib\\site-packages\\sklearn\\metrics\\_regression.py:492: FutureWarning: 'squared' is deprecated in version 1.4 and will be removed in 1.6. To calculate the root mean squared error, use the function'root_mean_squared_error'.\n",
      "  warnings.warn(\n",
      "[I 2025-02-10 15:52:08,643] Trial 3 finished with value: 338.94175099272553 and parameters: {'iterations': 1787, 'depth': 10, 'learning_rate': 0.20993766477829146, 'l2_leaf_reg': 2.3842733701642027}. Best is trial 1 with value: 295.85004065173797.\n"
     ]
    },
    {
     "name": "stdout",
     "output_type": "stream",
     "text": [
      "Validation RMSE: 338.94175099272553\n"
     ]
    },
    {
     "name": "stderr",
     "output_type": "stream",
     "text": [
      "c:\\Users\\juanmoreno\\AppData\\Local\\Programs\\Python\\Python312\\Lib\\site-packages\\sklearn\\metrics\\_regression.py:492: FutureWarning: 'squared' is deprecated in version 1.4 and will be removed in 1.6. To calculate the root mean squared error, use the function'root_mean_squared_error'.\n",
      "  warnings.warn(\n",
      "[I 2025-02-10 15:52:09,660] Trial 4 finished with value: 296.28098906489794 and parameters: {'iterations': 790, 'depth': 5, 'learning_rate': 0.03671090246148503, 'l2_leaf_reg': 8.31094367145263}. Best is trial 1 with value: 295.85004065173797.\n"
     ]
    },
    {
     "name": "stdout",
     "output_type": "stream",
     "text": [
      "Validation RMSE: 296.28098906489794\n"
     ]
    },
    {
     "name": "stderr",
     "output_type": "stream",
     "text": [
      "c:\\Users\\juanmoreno\\AppData\\Local\\Programs\\Python\\Python312\\Lib\\site-packages\\sklearn\\metrics\\_regression.py:492: FutureWarning: 'squared' is deprecated in version 1.4 and will be removed in 1.6. To calculate the root mean squared error, use the function'root_mean_squared_error'.\n",
      "  warnings.warn(\n",
      "[I 2025-02-10 15:52:10,122] Trial 5 finished with value: 295.19628227806254 and parameters: {'iterations': 1774, 'depth': 6, 'learning_rate': 0.22695598005376477, 'l2_leaf_reg': 6.928420644180674}. Best is trial 5 with value: 295.19628227806254.\n"
     ]
    },
    {
     "name": "stdout",
     "output_type": "stream",
     "text": [
      "Validation RMSE: 295.19628227806254\n"
     ]
    },
    {
     "name": "stderr",
     "output_type": "stream",
     "text": [
      "c:\\Users\\juanmoreno\\AppData\\Local\\Programs\\Python\\Python312\\Lib\\site-packages\\sklearn\\metrics\\_regression.py:492: FutureWarning: 'squared' is deprecated in version 1.4 and will be removed in 1.6. To calculate the root mean squared error, use the function'root_mean_squared_error'.\n",
      "  warnings.warn(\n",
      "[I 2025-02-10 15:52:10,439] Trial 6 finished with value: 301.54541715861455 and parameters: {'iterations': 1774, 'depth': 5, 'learning_rate': 0.1978781793323871, 'l2_leaf_reg': 3.9968989870348053}. Best is trial 5 with value: 295.19628227806254.\n"
     ]
    },
    {
     "name": "stdout",
     "output_type": "stream",
     "text": [
      "Validation RMSE: 301.54541715861455\n"
     ]
    },
    {
     "name": "stderr",
     "output_type": "stream",
     "text": [
      "c:\\Users\\juanmoreno\\AppData\\Local\\Programs\\Python\\Python312\\Lib\\site-packages\\sklearn\\metrics\\_regression.py:492: FutureWarning: 'squared' is deprecated in version 1.4 and will be removed in 1.6. To calculate the root mean squared error, use the function'root_mean_squared_error'.\n",
      "  warnings.warn(\n",
      "[I 2025-02-10 15:52:10,865] Trial 7 finished with value: 296.5557732263157 and parameters: {'iterations': 1860, 'depth': 4, 'learning_rate': 0.1054939887750296, 'l2_leaf_reg': 4.543019797454522}. Best is trial 5 with value: 295.19628227806254.\n"
     ]
    },
    {
     "name": "stdout",
     "output_type": "stream",
     "text": [
      "Validation RMSE: 296.5557732263157\n"
     ]
    },
    {
     "name": "stderr",
     "output_type": "stream",
     "text": [
      "c:\\Users\\juanmoreno\\AppData\\Local\\Programs\\Python\\Python312\\Lib\\site-packages\\sklearn\\metrics\\_regression.py:492: FutureWarning: 'squared' is deprecated in version 1.4 and will be removed in 1.6. To calculate the root mean squared error, use the function'root_mean_squared_error'.\n",
      "  warnings.warn(\n",
      "[I 2025-02-10 15:52:11,306] Trial 8 finished with value: 288.088840755514 and parameters: {'iterations': 1466, 'depth': 5, 'learning_rate': 0.21516787597263462, 'l2_leaf_reg': 3.1144773783989192}. Best is trial 8 with value: 288.088840755514.\n"
     ]
    },
    {
     "name": "stdout",
     "output_type": "stream",
     "text": [
      "Validation RMSE: 288.088840755514\n"
     ]
    },
    {
     "name": "stderr",
     "output_type": "stream",
     "text": [
      "c:\\Users\\juanmoreno\\AppData\\Local\\Programs\\Python\\Python312\\Lib\\site-packages\\sklearn\\metrics\\_regression.py:492: FutureWarning: 'squared' is deprecated in version 1.4 and will be removed in 1.6. To calculate the root mean squared error, use the function'root_mean_squared_error'.\n",
      "  warnings.warn(\n",
      "[I 2025-02-10 15:52:11,762] Trial 9 finished with value: 292.2580536176456 and parameters: {'iterations': 1122, 'depth': 4, 'learning_rate': 0.14895888596129905, 'l2_leaf_reg': 5.532026522239959}. Best is trial 8 with value: 288.088840755514.\n"
     ]
    },
    {
     "name": "stdout",
     "output_type": "stream",
     "text": [
      "Validation RMSE: 292.2580536176456\n"
     ]
    },
    {
     "name": "stderr",
     "output_type": "stream",
     "text": [
      "c:\\Users\\juanmoreno\\AppData\\Local\\Programs\\Python\\Python312\\Lib\\site-packages\\sklearn\\metrics\\_regression.py:492: FutureWarning: 'squared' is deprecated in version 1.4 and will be removed in 1.6. To calculate the root mean squared error, use the function'root_mean_squared_error'.\n",
      "  warnings.warn(\n",
      "[I 2025-02-10 15:52:13,090] Trial 10 finished with value: 326.7043710778934 and parameters: {'iterations': 1413, 'depth': 9, 'learning_rate': 0.28081543682690535, 'l2_leaf_reg': 9.892489782897616}. Best is trial 8 with value: 288.088840755514.\n"
     ]
    },
    {
     "name": "stdout",
     "output_type": "stream",
     "text": [
      "Validation RMSE: 326.7043710778934\n"
     ]
    },
    {
     "name": "stderr",
     "output_type": "stream",
     "text": [
      "c:\\Users\\juanmoreno\\AppData\\Local\\Programs\\Python\\Python312\\Lib\\site-packages\\sklearn\\metrics\\_regression.py:492: FutureWarning: 'squared' is deprecated in version 1.4 and will be removed in 1.6. To calculate the root mean squared error, use the function'root_mean_squared_error'.\n",
      "  warnings.warn(\n",
      "[I 2025-02-10 15:52:13,617] Trial 11 finished with value: 287.70285354317565 and parameters: {'iterations': 1078, 'depth': 4, 'learning_rate': 0.12708733303964226, 'l2_leaf_reg': 6.020483667918315}. Best is trial 11 with value: 287.70285354317565.\n"
     ]
    },
    {
     "name": "stdout",
     "output_type": "stream",
     "text": [
      "Validation RMSE: 287.70285354317565\n"
     ]
    },
    {
     "name": "stderr",
     "output_type": "stream",
     "text": [
      "c:\\Users\\juanmoreno\\AppData\\Local\\Programs\\Python\\Python312\\Lib\\site-packages\\sklearn\\metrics\\_regression.py:492: FutureWarning: 'squared' is deprecated in version 1.4 and will be removed in 1.6. To calculate the root mean squared error, use the function'root_mean_squared_error'.\n",
      "  warnings.warn(\n",
      "[I 2025-02-10 15:52:14,170] Trial 12 finished with value: 295.4514416952019 and parameters: {'iterations': 1171, 'depth': 4, 'learning_rate': 0.11333013988515026, 'l2_leaf_reg': 2.8080613776791443}. Best is trial 11 with value: 287.70285354317565.\n"
     ]
    },
    {
     "name": "stdout",
     "output_type": "stream",
     "text": [
      "Validation RMSE: 295.4514416952019\n"
     ]
    },
    {
     "name": "stderr",
     "output_type": "stream",
     "text": [
      "c:\\Users\\juanmoreno\\AppData\\Local\\Programs\\Python\\Python312\\Lib\\site-packages\\sklearn\\metrics\\_regression.py:492: FutureWarning: 'squared' is deprecated in version 1.4 and will be removed in 1.6. To calculate the root mean squared error, use the function'root_mean_squared_error'.\n",
      "  warnings.warn(\n",
      "[I 2025-02-10 15:52:14,624] Trial 13 finished with value: 292.81223236462046 and parameters: {'iterations': 919, 'depth': 5, 'learning_rate': 0.2932613627326148, 'l2_leaf_reg': 7.057062590567689}. Best is trial 11 with value: 287.70285354317565.\n"
     ]
    },
    {
     "name": "stdout",
     "output_type": "stream",
     "text": [
      "Validation RMSE: 292.81223236462046\n"
     ]
    },
    {
     "name": "stderr",
     "output_type": "stream",
     "text": [
      "c:\\Users\\juanmoreno\\AppData\\Local\\Programs\\Python\\Python312\\Lib\\site-packages\\sklearn\\metrics\\_regression.py:492: FutureWarning: 'squared' is deprecated in version 1.4 and will be removed in 1.6. To calculate the root mean squared error, use the function'root_mean_squared_error'.\n",
      "  warnings.warn(\n",
      "[I 2025-02-10 15:52:15,362] Trial 14 finished with value: 299.4747305607304 and parameters: {'iterations': 1416, 'depth': 6, 'learning_rate': 0.08214065493610744, 'l2_leaf_reg': 1.3072268158274554}. Best is trial 11 with value: 287.70285354317565.\n"
     ]
    },
    {
     "name": "stdout",
     "output_type": "stream",
     "text": [
      "Validation RMSE: 299.4747305607304\n"
     ]
    },
    {
     "name": "stderr",
     "output_type": "stream",
     "text": [
      "c:\\Users\\juanmoreno\\AppData\\Local\\Programs\\Python\\Python312\\Lib\\site-packages\\sklearn\\metrics\\_regression.py:492: FutureWarning: 'squared' is deprecated in version 1.4 and will be removed in 1.6. To calculate the root mean squared error, use the function'root_mean_squared_error'.\n",
      "  warnings.warn(\n",
      "[I 2025-02-10 15:52:16,491] Trial 15 finished with value: 307.1535114020801 and parameters: {'iterations': 1357, 'depth': 7, 'learning_rate': 0.15490172547567557, 'l2_leaf_reg': 3.110623399196634}. Best is trial 11 with value: 287.70285354317565.\n"
     ]
    },
    {
     "name": "stdout",
     "output_type": "stream",
     "text": [
      "Validation RMSE: 307.1535114020801\n"
     ]
    },
    {
     "name": "stderr",
     "output_type": "stream",
     "text": [
      "c:\\Users\\juanmoreno\\AppData\\Local\\Programs\\Python\\Python312\\Lib\\site-packages\\sklearn\\metrics\\_regression.py:492: FutureWarning: 'squared' is deprecated in version 1.4 and will be removed in 1.6. To calculate the root mean squared error, use the function'root_mean_squared_error'.\n",
      "  warnings.warn(\n",
      "[I 2025-02-10 15:52:17,319] Trial 16 finished with value: 290.3073416265305 and parameters: {'iterations': 1009, 'depth': 5, 'learning_rate': 0.06890130178556853, 'l2_leaf_reg': 5.017111162520141}. Best is trial 11 with value: 287.70285354317565.\n"
     ]
    },
    {
     "name": "stdout",
     "output_type": "stream",
     "text": [
      "Validation RMSE: 290.3073416265305\n"
     ]
    },
    {
     "name": "stderr",
     "output_type": "stream",
     "text": [
      "c:\\Users\\juanmoreno\\AppData\\Local\\Programs\\Python\\Python312\\Lib\\site-packages\\sklearn\\metrics\\_regression.py:492: FutureWarning: 'squared' is deprecated in version 1.4 and will be removed in 1.6. To calculate the root mean squared error, use the function'root_mean_squared_error'.\n",
      "  warnings.warn(\n",
      "[I 2025-02-10 15:52:17,696] Trial 17 finished with value: 293.75436287513173 and parameters: {'iterations': 1543, 'depth': 4, 'learning_rate': 0.2635583281106759, 'l2_leaf_reg': 6.535977555529804}. Best is trial 11 with value: 287.70285354317565.\n"
     ]
    },
    {
     "name": "stdout",
     "output_type": "stream",
     "text": [
      "Validation RMSE: 293.75436287513173\n"
     ]
    },
    {
     "name": "stderr",
     "output_type": "stream",
     "text": [
      "c:\\Users\\juanmoreno\\AppData\\Local\\Programs\\Python\\Python312\\Lib\\site-packages\\sklearn\\metrics\\_regression.py:492: FutureWarning: 'squared' is deprecated in version 1.4 and will be removed in 1.6. To calculate the root mean squared error, use the function'root_mean_squared_error'.\n",
      "  warnings.warn(\n",
      "[I 2025-02-10 15:52:18,339] Trial 18 finished with value: 299.0176652881118 and parameters: {'iterations': 670, 'depth': 7, 'learning_rate': 0.1284793707658341, 'l2_leaf_reg': 8.162395731154113}. Best is trial 11 with value: 287.70285354317565.\n"
     ]
    },
    {
     "name": "stdout",
     "output_type": "stream",
     "text": [
      "Validation RMSE: 299.0176652881118\n"
     ]
    },
    {
     "name": "stderr",
     "output_type": "stream",
     "text": [
      "c:\\Users\\juanmoreno\\AppData\\Local\\Programs\\Python\\Python312\\Lib\\site-packages\\sklearn\\metrics\\_regression.py:492: FutureWarning: 'squared' is deprecated in version 1.4 and will be removed in 1.6. To calculate the root mean squared error, use the function'root_mean_squared_error'.\n",
      "  warnings.warn(\n",
      "[I 2025-02-10 15:52:18,709] Trial 19 finished with value: 300.4363672920188 and parameters: {'iterations': 1245, 'depth': 5, 'learning_rate': 0.25066833446124215, 'l2_leaf_reg': 3.786170966084281}. Best is trial 11 with value: 287.70285354317565.\n"
     ]
    },
    {
     "name": "stdout",
     "output_type": "stream",
     "text": [
      "Validation RMSE: 300.4363672920188\n"
     ]
    },
    {
     "name": "stderr",
     "output_type": "stream",
     "text": [
      "c:\\Users\\juanmoreno\\AppData\\Local\\Programs\\Python\\Python312\\Lib\\site-packages\\sklearn\\metrics\\_regression.py:492: FutureWarning: 'squared' is deprecated in version 1.4 and will be removed in 1.6. To calculate the root mean squared error, use the function'root_mean_squared_error'.\n",
      "  warnings.warn(\n",
      "[I 2025-02-10 15:52:19,216] Trial 20 finished with value: 298.7391001530665 and parameters: {'iterations': 941, 'depth': 6, 'learning_rate': 0.1830535055073661, 'l2_leaf_reg': 6.051399127758241}. Best is trial 11 with value: 287.70285354317565.\n"
     ]
    },
    {
     "name": "stdout",
     "output_type": "stream",
     "text": [
      "Validation RMSE: 298.7391001530665\n"
     ]
    },
    {
     "name": "stderr",
     "output_type": "stream",
     "text": [
      "c:\\Users\\juanmoreno\\AppData\\Local\\Programs\\Python\\Python312\\Lib\\site-packages\\sklearn\\metrics\\_regression.py:492: FutureWarning: 'squared' is deprecated in version 1.4 and will be removed in 1.6. To calculate the root mean squared error, use the function'root_mean_squared_error'.\n",
      "  warnings.warn(\n",
      "[I 2025-02-10 15:52:19,854] Trial 21 finished with value: 289.7566856269345 and parameters: {'iterations': 1045, 'depth': 5, 'learning_rate': 0.09362176120864638, 'l2_leaf_reg': 4.869782364743458}. Best is trial 11 with value: 287.70285354317565.\n"
     ]
    },
    {
     "name": "stdout",
     "output_type": "stream",
     "text": [
      "Validation RMSE: 289.7566856269345\n"
     ]
    },
    {
     "name": "stderr",
     "output_type": "stream",
     "text": [
      "c:\\Users\\juanmoreno\\AppData\\Local\\Programs\\Python\\Python312\\Lib\\site-packages\\sklearn\\metrics\\_regression.py:492: FutureWarning: 'squared' is deprecated in version 1.4 and will be removed in 1.6. To calculate the root mean squared error, use the function'root_mean_squared_error'.\n",
      "  warnings.warn(\n",
      "[I 2025-02-10 15:52:20,691] Trial 22 finished with value: 288.64514753574224 and parameters: {'iterations': 1050, 'depth': 4, 'learning_rate': 0.06867977539562932, 'l2_leaf_reg': 4.842669095939226}. Best is trial 11 with value: 287.70285354317565.\n"
     ]
    },
    {
     "name": "stdout",
     "output_type": "stream",
     "text": [
      "Validation RMSE: 288.64514753574224\n"
     ]
    },
    {
     "name": "stderr",
     "output_type": "stream",
     "text": [
      "c:\\Users\\juanmoreno\\AppData\\Local\\Programs\\Python\\Python312\\Lib\\site-packages\\sklearn\\metrics\\_regression.py:492: FutureWarning: 'squared' is deprecated in version 1.4 and will be removed in 1.6. To calculate the root mean squared error, use the function'root_mean_squared_error'.\n",
      "  warnings.warn(\n",
      "[I 2025-02-10 15:52:21,380] Trial 23 finished with value: 292.552769309522 and parameters: {'iterations': 849, 'depth': 4, 'learning_rate': 0.06688593133163903, 'l2_leaf_reg': 3.3759335126957657}. Best is trial 11 with value: 287.70285354317565.\n"
     ]
    },
    {
     "name": "stdout",
     "output_type": "stream",
     "text": [
      "Validation RMSE: 292.552769309522\n"
     ]
    },
    {
     "name": "stderr",
     "output_type": "stream",
     "text": [
      "c:\\Users\\juanmoreno\\AppData\\Local\\Programs\\Python\\Python312\\Lib\\site-packages\\sklearn\\metrics\\_regression.py:492: FutureWarning: 'squared' is deprecated in version 1.4 and will be removed in 1.6. To calculate the root mean squared error, use the function'root_mean_squared_error'.\n",
      "  warnings.warn(\n",
      "[I 2025-02-10 15:52:22,061] Trial 24 finished with value: 297.05203948343245 and parameters: {'iterations': 1272, 'depth': 4, 'learning_rate': 0.05206323086891075, 'l2_leaf_reg': 4.442073542912976}. Best is trial 11 with value: 287.70285354317565.\n"
     ]
    },
    {
     "name": "stdout",
     "output_type": "stream",
     "text": [
      "Validation RMSE: 297.05203948343245\n"
     ]
    },
    {
     "name": "stderr",
     "output_type": "stream",
     "text": [
      "c:\\Users\\juanmoreno\\AppData\\Local\\Programs\\Python\\Python312\\Lib\\site-packages\\sklearn\\metrics\\_regression.py:492: FutureWarning: 'squared' is deprecated in version 1.4 and will be removed in 1.6. To calculate the root mean squared error, use the function'root_mean_squared_error'.\n",
      "  warnings.warn(\n",
      "[I 2025-02-10 15:52:22,793] Trial 25 finished with value: 284.52186387120963 and parameters: {'iterations': 1598, 'depth': 4, 'learning_rate': 0.13035343832420987, 'l2_leaf_reg': 8.001260469316373}. Best is trial 25 with value: 284.52186387120963.\n"
     ]
    },
    {
     "name": "stdout",
     "output_type": "stream",
     "text": [
      "Validation RMSE: 284.52186387120963\n"
     ]
    },
    {
     "name": "stderr",
     "output_type": "stream",
     "text": [
      "c:\\Users\\juanmoreno\\AppData\\Local\\Programs\\Python\\Python312\\Lib\\site-packages\\sklearn\\metrics\\_regression.py:492: FutureWarning: 'squared' is deprecated in version 1.4 and will be removed in 1.6. To calculate the root mean squared error, use the function'root_mean_squared_error'.\n",
      "  warnings.warn(\n",
      "[I 2025-02-10 15:52:23,296] Trial 26 finished with value: 282.9829075386805 and parameters: {'iterations': 1592, 'depth': 5, 'learning_rate': 0.13921888679636715, 'l2_leaf_reg': 7.909867308844091}. Best is trial 26 with value: 282.9829075386805.\n"
     ]
    },
    {
     "name": "stdout",
     "output_type": "stream",
     "text": [
      "Validation RMSE: 282.9829075386805\n"
     ]
    },
    {
     "name": "stderr",
     "output_type": "stream",
     "text": [
      "c:\\Users\\juanmoreno\\AppData\\Local\\Programs\\Python\\Python312\\Lib\\site-packages\\sklearn\\metrics\\_regression.py:492: FutureWarning: 'squared' is deprecated in version 1.4 and will be removed in 1.6. To calculate the root mean squared error, use the function'root_mean_squared_error'.\n",
      "  warnings.warn(\n",
      "[I 2025-02-10 15:52:24,455] Trial 27 finished with value: 311.5017012441645 and parameters: {'iterations': 1595, 'depth': 8, 'learning_rate': 0.13722260235200137, 'l2_leaf_reg': 8.056243948391213}. Best is trial 26 with value: 282.9829075386805.\n"
     ]
    },
    {
     "name": "stdout",
     "output_type": "stream",
     "text": [
      "Validation RMSE: 311.5017012441645\n"
     ]
    },
    {
     "name": "stderr",
     "output_type": "stream",
     "text": [
      "c:\\Users\\juanmoreno\\AppData\\Local\\Programs\\Python\\Python312\\Lib\\site-packages\\sklearn\\metrics\\_regression.py:492: FutureWarning: 'squared' is deprecated in version 1.4 and will be removed in 1.6. To calculate the root mean squared error, use the function'root_mean_squared_error'.\n",
      "  warnings.warn(\n",
      "[I 2025-02-10 15:52:25,013] Trial 28 finished with value: 305.54691966277363 and parameters: {'iterations': 1678, 'depth': 6, 'learning_rate': 0.16924854900597044, 'l2_leaf_reg': 9.284450798487496}. Best is trial 26 with value: 282.9829075386805.\n"
     ]
    },
    {
     "name": "stdout",
     "output_type": "stream",
     "text": [
      "Validation RMSE: 305.54691966277363\n"
     ]
    },
    {
     "name": "stderr",
     "output_type": "stream",
     "text": [
      "c:\\Users\\juanmoreno\\AppData\\Local\\Programs\\Python\\Python312\\Lib\\site-packages\\sklearn\\metrics\\_regression.py:492: FutureWarning: 'squared' is deprecated in version 1.4 and will be removed in 1.6. To calculate the root mean squared error, use the function'root_mean_squared_error'.\n",
      "  warnings.warn(\n",
      "[I 2025-02-10 15:52:26,504] Trial 29 finished with value: 306.01640484089467 and parameters: {'iterations': 1304, 'depth': 8, 'learning_rate': 0.12224565096339156, 'l2_leaf_reg': 7.574577013327994}. Best is trial 26 with value: 282.9829075386805.\n"
     ]
    },
    {
     "name": "stdout",
     "output_type": "stream",
     "text": [
      "Validation RMSE: 306.01640484089467\n"
     ]
    },
    {
     "name": "stderr",
     "output_type": "stream",
     "text": [
      "c:\\Users\\juanmoreno\\AppData\\Local\\Programs\\Python\\Python312\\Lib\\site-packages\\sklearn\\metrics\\_regression.py:492: FutureWarning: 'squared' is deprecated in version 1.4 and will be removed in 1.6. To calculate the root mean squared error, use the function'root_mean_squared_error'.\n",
      "  warnings.warn(\n",
      "[I 2025-02-10 15:52:27,039] Trial 30 finished with value: 287.26570294014317 and parameters: {'iterations': 1916, 'depth': 4, 'learning_rate': 0.10129740175756988, 'l2_leaf_reg': 8.986010928878342}. Best is trial 26 with value: 282.9829075386805.\n"
     ]
    },
    {
     "name": "stdout",
     "output_type": "stream",
     "text": [
      "Validation RMSE: 287.26570294014317\n"
     ]
    },
    {
     "name": "stderr",
     "output_type": "stream",
     "text": [
      "c:\\Users\\juanmoreno\\AppData\\Local\\Programs\\Python\\Python312\\Lib\\site-packages\\sklearn\\metrics\\_regression.py:492: FutureWarning: 'squared' is deprecated in version 1.4 and will be removed in 1.6. To calculate the root mean squared error, use the function'root_mean_squared_error'.\n",
      "  warnings.warn(\n",
      "[I 2025-02-10 15:52:27,844] Trial 31 finished with value: 285.00527723519286 and parameters: {'iterations': 1947, 'depth': 4, 'learning_rate': 0.10120105606451563, 'l2_leaf_reg': 9.1054144710057}. Best is trial 26 with value: 282.9829075386805.\n"
     ]
    },
    {
     "name": "stdout",
     "output_type": "stream",
     "text": [
      "Validation RMSE: 285.00527723519286\n"
     ]
    },
    {
     "name": "stderr",
     "output_type": "stream",
     "text": [
      "c:\\Users\\juanmoreno\\AppData\\Local\\Programs\\Python\\Python312\\Lib\\site-packages\\sklearn\\metrics\\_regression.py:492: FutureWarning: 'squared' is deprecated in version 1.4 and will be removed in 1.6. To calculate the root mean squared error, use the function'root_mean_squared_error'.\n",
      "  warnings.warn(\n",
      "[I 2025-02-10 15:52:28,720] Trial 32 finished with value: 293.62227300041627 and parameters: {'iterations': 1965, 'depth': 4, 'learning_rate': 0.10077954020804941, 'l2_leaf_reg': 8.874597645537722}. Best is trial 26 with value: 282.9829075386805.\n"
     ]
    },
    {
     "name": "stdout",
     "output_type": "stream",
     "text": [
      "Validation RMSE: 293.62227300041627\n"
     ]
    },
    {
     "name": "stderr",
     "output_type": "stream",
     "text": [
      "c:\\Users\\juanmoreno\\AppData\\Local\\Programs\\Python\\Python312\\Lib\\site-packages\\sklearn\\metrics\\_regression.py:492: FutureWarning: 'squared' is deprecated in version 1.4 and will be removed in 1.6. To calculate the root mean squared error, use the function'root_mean_squared_error'.\n",
      "  warnings.warn(\n",
      "[I 2025-02-10 15:52:29,300] Trial 33 finished with value: 290.8717461804573 and parameters: {'iterations': 1916, 'depth': 5, 'learning_rate': 0.14321651490152507, 'l2_leaf_reg': 9.912914023909078}. Best is trial 26 with value: 282.9829075386805.\n"
     ]
    },
    {
     "name": "stdout",
     "output_type": "stream",
     "text": [
      "Validation RMSE: 290.8717461804573\n"
     ]
    },
    {
     "name": "stderr",
     "output_type": "stream",
     "text": [
      "c:\\Users\\juanmoreno\\AppData\\Local\\Programs\\Python\\Python312\\Lib\\site-packages\\sklearn\\metrics\\_regression.py:492: FutureWarning: 'squared' is deprecated in version 1.4 and will be removed in 1.6. To calculate the root mean squared error, use the function'root_mean_squared_error'.\n",
      "  warnings.warn(\n",
      "[I 2025-02-10 15:52:29,867] Trial 34 finished with value: 283.7139967400199 and parameters: {'iterations': 1996, 'depth': 4, 'learning_rate': 0.16977806378636723, 'l2_leaf_reg': 9.002384490885788}. Best is trial 26 with value: 282.9829075386805.\n"
     ]
    },
    {
     "name": "stdout",
     "output_type": "stream",
     "text": [
      "Validation RMSE: 283.7139967400199\n"
     ]
    },
    {
     "name": "stderr",
     "output_type": "stream",
     "text": [
      "c:\\Users\\juanmoreno\\AppData\\Local\\Programs\\Python\\Python312\\Lib\\site-packages\\sklearn\\metrics\\_regression.py:492: FutureWarning: 'squared' is deprecated in version 1.4 and will be removed in 1.6. To calculate the root mean squared error, use the function'root_mean_squared_error'.\n",
      "  warnings.warn(\n",
      "[I 2025-02-10 15:52:30,357] Trial 35 finished with value: 297.75637459043674 and parameters: {'iterations': 1693, 'depth': 5, 'learning_rate': 0.16896696989256932, 'l2_leaf_reg': 7.680458857326739}. Best is trial 26 with value: 282.9829075386805.\n"
     ]
    },
    {
     "name": "stdout",
     "output_type": "stream",
     "text": [
      "Validation RMSE: 297.75637459043674\n"
     ]
    },
    {
     "name": "stderr",
     "output_type": "stream",
     "text": [
      "c:\\Users\\juanmoreno\\AppData\\Local\\Programs\\Python\\Python312\\Lib\\site-packages\\sklearn\\metrics\\_regression.py:492: FutureWarning: 'squared' is deprecated in version 1.4 and will be removed in 1.6. To calculate the root mean squared error, use the function'root_mean_squared_error'.\n",
      "  warnings.warn(\n",
      "[I 2025-02-10 15:52:35,844] Trial 36 finished with value: 329.06798375605115 and parameters: {'iterations': 1997, 'depth': 10, 'learning_rate': 0.1859492225991574, 'l2_leaf_reg': 8.847742919290658}. Best is trial 26 with value: 282.9829075386805.\n"
     ]
    },
    {
     "name": "stdout",
     "output_type": "stream",
     "text": [
      "Validation RMSE: 329.06798375605115\n"
     ]
    },
    {
     "name": "stderr",
     "output_type": "stream",
     "text": [
      "c:\\Users\\juanmoreno\\AppData\\Local\\Programs\\Python\\Python312\\Lib\\site-packages\\sklearn\\metrics\\_regression.py:492: FutureWarning: 'squared' is deprecated in version 1.4 and will be removed in 1.6. To calculate the root mean squared error, use the function'root_mean_squared_error'.\n",
      "  warnings.warn(\n",
      "[I 2025-02-10 15:52:36,553] Trial 37 finished with value: 300.9453766556836 and parameters: {'iterations': 1840, 'depth': 6, 'learning_rate': 0.17042246223372876, 'l2_leaf_reg': 9.428324512361739}. Best is trial 26 with value: 282.9829075386805.\n"
     ]
    },
    {
     "name": "stdout",
     "output_type": "stream",
     "text": [
      "Validation RMSE: 300.9453766556836\n"
     ]
    },
    {
     "name": "stderr",
     "output_type": "stream",
     "text": [
      "c:\\Users\\juanmoreno\\AppData\\Local\\Programs\\Python\\Python312\\Lib\\site-packages\\sklearn\\metrics\\_regression.py:492: FutureWarning: 'squared' is deprecated in version 1.4 and will be removed in 1.6. To calculate the root mean squared error, use the function'root_mean_squared_error'.\n",
      "  warnings.warn(\n",
      "[I 2025-02-10 15:52:46,298] Trial 38 finished with value: 322.62613381368345 and parameters: {'iterations': 1703, 'depth': 9, 'learning_rate': 0.011841528190227185, 'l2_leaf_reg': 8.627526924340247}. Best is trial 26 with value: 282.9829075386805.\n"
     ]
    },
    {
     "name": "stdout",
     "output_type": "stream",
     "text": [
      "Validation RMSE: 322.62613381368345\n"
     ]
    },
    {
     "name": "stderr",
     "output_type": "stream",
     "text": [
      "c:\\Users\\juanmoreno\\AppData\\Local\\Programs\\Python\\Python312\\Lib\\site-packages\\sklearn\\metrics\\_regression.py:492: FutureWarning: 'squared' is deprecated in version 1.4 and will be removed in 1.6. To calculate the root mean squared error, use the function'root_mean_squared_error'.\n",
      "  warnings.warn(\n",
      "[I 2025-02-10 15:52:46,691] Trial 39 finished with value: 287.2451879460649 and parameters: {'iterations': 1517, 'depth': 5, 'learning_rate': 0.20102717213470433, 'l2_leaf_reg': 7.337107378039496}. Best is trial 26 with value: 282.9829075386805.\n"
     ]
    },
    {
     "name": "stdout",
     "output_type": "stream",
     "text": [
      "Validation RMSE: 287.2451879460649\n"
     ]
    },
    {
     "name": "stderr",
     "output_type": "stream",
     "text": [
      "c:\\Users\\juanmoreno\\AppData\\Local\\Programs\\Python\\Python312\\Lib\\site-packages\\sklearn\\metrics\\_regression.py:492: FutureWarning: 'squared' is deprecated in version 1.4 and will be removed in 1.6. To calculate the root mean squared error, use the function'root_mean_squared_error'.\n",
      "  warnings.warn(\n",
      "[I 2025-02-10 15:52:47,198] Trial 40 finished with value: 296.02776307347904 and parameters: {'iterations': 1846, 'depth': 4, 'learning_rate': 0.15841671398602594, 'l2_leaf_reg': 7.969803796919278}. Best is trial 26 with value: 282.9829075386805.\n"
     ]
    },
    {
     "name": "stdout",
     "output_type": "stream",
     "text": [
      "Validation RMSE: 296.02776307347904\n"
     ]
    },
    {
     "name": "stderr",
     "output_type": "stream",
     "text": [
      "c:\\Users\\juanmoreno\\AppData\\Local\\Programs\\Python\\Python312\\Lib\\site-packages\\sklearn\\metrics\\_regression.py:492: FutureWarning: 'squared' is deprecated in version 1.4 and will be removed in 1.6. To calculate the root mean squared error, use the function'root_mean_squared_error'.\n",
      "  warnings.warn(\n",
      "[I 2025-02-10 15:52:47,774] Trial 41 finished with value: 286.8341192933995 and parameters: {'iterations': 1515, 'depth': 5, 'learning_rate': 0.1930059126309891, 'l2_leaf_reg': 7.341263217792593}. Best is trial 26 with value: 282.9829075386805.\n"
     ]
    },
    {
     "name": "stdout",
     "output_type": "stream",
     "text": [
      "Validation RMSE: 286.8341192933995\n"
     ]
    },
    {
     "name": "stderr",
     "output_type": "stream",
     "text": [
      "c:\\Users\\juanmoreno\\AppData\\Local\\Programs\\Python\\Python312\\Lib\\site-packages\\sklearn\\metrics\\_regression.py:492: FutureWarning: 'squared' is deprecated in version 1.4 and will be removed in 1.6. To calculate the root mean squared error, use the function'root_mean_squared_error'.\n",
      "  warnings.warn(\n",
      "[I 2025-02-10 15:52:48,452] Trial 42 finished with value: 294.51014935234247 and parameters: {'iterations': 1627, 'depth': 5, 'learning_rate': 0.24019633912989666, 'l2_leaf_reg': 6.601559740069968}. Best is trial 26 with value: 282.9829075386805.\n"
     ]
    },
    {
     "name": "stdout",
     "output_type": "stream",
     "text": [
      "Validation RMSE: 294.51014935234247\n"
     ]
    },
    {
     "name": "stderr",
     "output_type": "stream",
     "text": [
      "c:\\Users\\juanmoreno\\AppData\\Local\\Programs\\Python\\Python312\\Lib\\site-packages\\sklearn\\metrics\\_regression.py:492: FutureWarning: 'squared' is deprecated in version 1.4 and will be removed in 1.6. To calculate the root mean squared error, use the function'root_mean_squared_error'.\n",
      "  warnings.warn(\n",
      "[I 2025-02-10 15:52:48,959] Trial 43 finished with value: 281.8754941710709 and parameters: {'iterations': 1762, 'depth': 4, 'learning_rate': 0.1925243001910627, 'l2_leaf_reg': 8.348713537303649}. Best is trial 43 with value: 281.8754941710709.\n"
     ]
    },
    {
     "name": "stdout",
     "output_type": "stream",
     "text": [
      "Validation RMSE: 281.8754941710709\n"
     ]
    },
    {
     "name": "stderr",
     "output_type": "stream",
     "text": [
      "c:\\Users\\juanmoreno\\AppData\\Local\\Programs\\Python\\Python312\\Lib\\site-packages\\sklearn\\metrics\\_regression.py:492: FutureWarning: 'squared' is deprecated in version 1.4 and will be removed in 1.6. To calculate the root mean squared error, use the function'root_mean_squared_error'.\n",
      "  warnings.warn(\n",
      "[I 2025-02-10 15:52:49,372] Trial 44 finished with value: 298.0861930215124 and parameters: {'iterations': 1767, 'depth': 4, 'learning_rate': 0.21749084346361158, 'l2_leaf_reg': 8.632865594883613}. Best is trial 43 with value: 281.8754941710709.\n"
     ]
    },
    {
     "name": "stdout",
     "output_type": "stream",
     "text": [
      "Validation RMSE: 298.0861930215124\n"
     ]
    },
    {
     "name": "stderr",
     "output_type": "stream",
     "text": [
      "c:\\Users\\juanmoreno\\AppData\\Local\\Programs\\Python\\Python312\\Lib\\site-packages\\sklearn\\metrics\\_regression.py:492: FutureWarning: 'squared' is deprecated in version 1.4 and will be removed in 1.6. To calculate the root mean squared error, use the function'root_mean_squared_error'.\n",
      "  warnings.warn(\n",
      "[I 2025-02-10 15:52:49,927] Trial 45 finished with value: 291.6467659912286 and parameters: {'iterations': 1773, 'depth': 4, 'learning_rate': 0.11239979069020171, 'l2_leaf_reg': 9.423166260924894}. Best is trial 43 with value: 281.8754941710709.\n"
     ]
    },
    {
     "name": "stdout",
     "output_type": "stream",
     "text": [
      "Validation RMSE: 291.6467659912286\n"
     ]
    },
    {
     "name": "stderr",
     "output_type": "stream",
     "text": [
      "c:\\Users\\juanmoreno\\AppData\\Local\\Programs\\Python\\Python312\\Lib\\site-packages\\sklearn\\metrics\\_regression.py:492: FutureWarning: 'squared' is deprecated in version 1.4 and will be removed in 1.6. To calculate the root mean squared error, use the function'root_mean_squared_error'.\n",
      "  warnings.warn(\n",
      "[I 2025-02-10 15:52:50,446] Trial 46 finished with value: 283.52646819895756 and parameters: {'iterations': 1893, 'depth': 4, 'learning_rate': 0.1320028010277751, 'l2_leaf_reg': 9.471881752011972}. Best is trial 43 with value: 281.8754941710709.\n"
     ]
    },
    {
     "name": "stdout",
     "output_type": "stream",
     "text": [
      "Validation RMSE: 283.52646819895756\n"
     ]
    },
    {
     "name": "stderr",
     "output_type": "stream",
     "text": [
      "c:\\Users\\juanmoreno\\AppData\\Local\\Programs\\Python\\Python312\\Lib\\site-packages\\sklearn\\metrics\\_regression.py:492: FutureWarning: 'squared' is deprecated in version 1.4 and will be removed in 1.6. To calculate the root mean squared error, use the function'root_mean_squared_error'.\n",
      "  warnings.warn(\n",
      "[I 2025-02-10 15:52:51,131] Trial 47 finished with value: 288.594308667656 and parameters: {'iterations': 1881, 'depth': 4, 'learning_rate': 0.13528081767325503, 'l2_leaf_reg': 8.35097469796052}. Best is trial 43 with value: 281.8754941710709.\n"
     ]
    },
    {
     "name": "stdout",
     "output_type": "stream",
     "text": [
      "Validation RMSE: 288.594308667656\n"
     ]
    },
    {
     "name": "stderr",
     "output_type": "stream",
     "text": [
      "c:\\Users\\juanmoreno\\AppData\\Local\\Programs\\Python\\Python312\\Lib\\site-packages\\sklearn\\metrics\\_regression.py:492: FutureWarning: 'squared' is deprecated in version 1.4 and will be removed in 1.6. To calculate the root mean squared error, use the function'root_mean_squared_error'.\n",
      "  warnings.warn(\n",
      "[I 2025-02-10 15:52:51,806] Trial 48 finished with value: 294.51479261550145 and parameters: {'iterations': 1809, 'depth': 5, 'learning_rate': 0.15190092986722023, 'l2_leaf_reg': 9.895164914964605}. Best is trial 43 with value: 281.8754941710709.\n"
     ]
    },
    {
     "name": "stdout",
     "output_type": "stream",
     "text": [
      "Validation RMSE: 294.51479261550145\n"
     ]
    },
    {
     "name": "stderr",
     "output_type": "stream",
     "text": [
      "c:\\Users\\juanmoreno\\AppData\\Local\\Programs\\Python\\Python312\\Lib\\site-packages\\sklearn\\metrics\\_regression.py:492: FutureWarning: 'squared' is deprecated in version 1.4 and will be removed in 1.6. To calculate the root mean squared error, use the function'root_mean_squared_error'.\n",
      "  warnings.warn(\n",
      "[I 2025-02-10 15:52:52,229] Trial 49 finished with value: 282.6037976714553 and parameters: {'iterations': 1673, 'depth': 4, 'learning_rate': 0.20778265752621128, 'l2_leaf_reg': 9.55875455129166}. Best is trial 43 with value: 281.8754941710709.\n"
     ]
    },
    {
     "name": "stdout",
     "output_type": "stream",
     "text": [
      "Validation RMSE: 282.6037976714553\n",
      "0:\tlearn: 618.4417323\ttotal: 1.07ms\tremaining: 1.88s\n",
      "100:\tlearn: 209.9910951\ttotal: 74.5ms\tremaining: 1.22s\n",
      "200:\tlearn: 175.9140168\ttotal: 143ms\tremaining: 1.11s\n",
      "300:\tlearn: 150.7448356\ttotal: 215ms\tremaining: 1.04s\n",
      "400:\tlearn: 129.2872958\ttotal: 291ms\tremaining: 986ms\n",
      "500:\tlearn: 115.6836719\ttotal: 377ms\tremaining: 949ms\n",
      "600:\tlearn: 105.0506885\ttotal: 452ms\tremaining: 873ms\n",
      "700:\tlearn: 96.6706314\ttotal: 518ms\tremaining: 784ms\n",
      "800:\tlearn: 89.1149574\ttotal: 583ms\tremaining: 699ms\n",
      "900:\tlearn: 82.3654421\ttotal: 675ms\tremaining: 645ms\n",
      "1000:\tlearn: 76.1633634\ttotal: 751ms\tremaining: 571ms\n",
      "1100:\tlearn: 70.8755972\ttotal: 824ms\tremaining: 495ms\n",
      "1200:\tlearn: 66.4307606\ttotal: 905ms\tremaining: 423ms\n",
      "1300:\tlearn: 62.3018416\ttotal: 975ms\tremaining: 346ms\n",
      "1400:\tlearn: 58.6931942\ttotal: 1.05s\tremaining: 271ms\n",
      "1500:\tlearn: 55.5308728\ttotal: 1.12s\tremaining: 195ms\n",
      "1600:\tlearn: 52.4756794\ttotal: 1.19s\tremaining: 120ms\n",
      "1700:\tlearn: 49.7525590\ttotal: 1.27s\tremaining: 45.4ms\n",
      "1761:\tlearn: 48.0378514\ttotal: 1.31s\tremaining: 0us\n",
      "Final Validation RMSE: 46.15856898505362\n"
     ]
    },
    {
     "name": "stderr",
     "output_type": "stream",
     "text": [
      "c:\\Users\\juanmoreno\\AppData\\Local\\Programs\\Python\\Python312\\Lib\\site-packages\\sklearn\\metrics\\_regression.py:492: FutureWarning: 'squared' is deprecated in version 1.4 and will be removed in 1.6. To calculate the root mean squared error, use the function'root_mean_squared_error'.\n",
      "  warnings.warn(\n"
     ]
    }
   ],
   "source": [
    "import pandas as pd\n",
    "import numpy as np\n",
    "from sklearn.model_selection import train_test_split\n",
    "from sklearn.preprocessing import StandardScaler\n",
    "from sklearn.feature_selection import VarianceThreshold\n",
    "from catboost import CatBoostRegressor\n",
    "from sklearn.metrics import mean_squared_error\n",
    "import optuna\n",
    "\n",
    "# Cargar los datos\n",
    "train_df = pd.read_csv(\"./data/train.csv\")\n",
    "test_df = pd.read_csv(\"./data/test.csv\")\n",
    "\n",
    "# Preprocesamiento: Separación de CPU, GPU y Memoria\n",
    "def process_cpu(cpu):\n",
    "    parts = cpu.split()\n",
    "    return parts[0], parts[2], float(parts[-1].replace('GHz', ''))\n",
    "\n",
    "def process_gpu(gpu):\n",
    "    parts = gpu.split()\n",
    "    return parts[0], ' '.join(parts[1:])\n",
    "\n",
    "def process_memory(memory):\n",
    "    types = ['SSD', 'HDD', 'Flash', 'Hybrid']\n",
    "    for t in types:\n",
    "        if t in memory:\n",
    "            numeric_part = ''.join(filter(str.isdigit, memory))  # Extrae solo los dígitos\n",
    "            return int(numeric_part), t\n",
    "    numeric_part = ''.join(filter(str.isdigit, memory))\n",
    "    return int(numeric_part) if numeric_part else 0, \"Unknown\"\n",
    "\n",
    "# Aplicar transformación\n",
    "train_df[['Cpu_Brand', 'Cpu_Family', 'Cpu_Speed']] = train_df['Cpu'].apply(lambda x: pd.Series(process_cpu(x)))\n",
    "test_df[['Cpu_Brand', 'Cpu_Family', 'Cpu_Speed']] = test_df['Cpu'].apply(lambda x: pd.Series(process_cpu(x)))\n",
    "\n",
    "train_df[['Gpu_Brand', 'Gpu_Model']] = train_df['Gpu'].apply(lambda x: pd.Series(process_gpu(x)))\n",
    "test_df[['Gpu_Brand', 'Gpu_Model']] = test_df['Gpu'].apply(lambda x: pd.Series(process_gpu(x)))\n",
    "\n",
    "train_df[['Memory_Capacity', 'Memory_Type']] = train_df['Memory'].apply(lambda x: pd.Series(process_memory(x)))\n",
    "test_df[['Memory_Capacity', 'Memory_Type']] = test_df['Memory'].apply(lambda x: pd.Series(process_memory(x)))\n",
    "\n",
    "# Convertir Ram y Weight a valores numéricos\n",
    "train_df['Ram'] = train_df['Ram'].apply(lambda x: int(''.join(filter(str.isdigit, str(x)))))\n",
    "test_df['Ram'] = test_df['Ram'].apply(lambda x: int(''.join(filter(str.isdigit, str(x)))))\n",
    "\n",
    "train_df['Weight'] = train_df['Weight'].apply(lambda x: float(str(x).replace('kg', '').strip()))\n",
    "test_df['Weight'] = test_df['Weight'].apply(lambda x: float(str(x).replace('kg', '').strip()))\n",
    "\n",
    "# Codificar variables categóricas con categorías alineadas\n",
    "categorical_cols = ['Company', 'TypeName', 'OpSys', 'Cpu_Brand', 'Cpu_Family', 'Gpu_Brand', 'Gpu_Model', 'Memory_Type']\n",
    "for col in categorical_cols:\n",
    "    train_df[col] = train_df[col].astype(\"category\").cat.codes\n",
    "    test_df[col] = test_df[col].map(train_df[col].to_dict()).fillna(-1).astype(int)\n",
    "\n",
    "# Selección de características\n",
    "X = train_df.drop(columns=['Price_in_euros', 'Cpu', 'Gpu', 'Memory', 'ScreenResolution', 'Product'])\n",
    "y = train_df['Price_in_euros']\n",
    "X_test = test_df.drop(columns=['Cpu', 'Gpu', 'Memory', 'ScreenResolution', 'Product'])\n",
    "\n",
    "# Dividir en train y validación con shuffle\n",
    "X_train, X_val, y_train, y_val = train_test_split(X, y, test_size=0.2, random_state=42, shuffle=True)\n",
    "\n",
    "# Optimización de hiperparámetros con Optuna\n",
    "def objective(trial):\n",
    "    params = {\n",
    "        'iterations': trial.suggest_int('iterations', 500, 2000),\n",
    "        'depth': trial.suggest_int('depth', 4, 10),\n",
    "        'learning_rate': trial.suggest_float('learning_rate', 0.01, 0.3),\n",
    "        'l2_leaf_reg': trial.suggest_float('l2_leaf_reg', 1, 10),\n",
    "        'loss_function': 'RMSE',\n",
    "        'eval_metric': 'RMSE',\n",
    "        'random_seed': 42,\n",
    "        'verbose': 0\n",
    "    }\n",
    "    model = CatBoostRegressor(**params)\n",
    "    model.fit(X_train, y_train, eval_set=(X_val, y_val), early_stopping_rounds=50, verbose=0)\n",
    "    y_pred = model.predict(X_val)\n",
    "    rmse = mean_squared_error(y_val, y_pred, squared=False)\n",
    "    print(f'Validation RMSE: {rmse}')\n",
    "    return rmse\n",
    "\n",
    "study = optuna.create_study(direction='minimize')\n",
    "study.optimize(objective, n_trials=50)\n",
    "\n",
    "# Entrenar modelo final\n",
    "best_params = study.best_params\n",
    "model = CatBoostRegressor(**best_params)\n",
    "model.fit(X, y, verbose=100)\n",
    "\n",
    "# Calcular RMSE final en conjunto de validación\n",
    "y_val_pred = model.predict(X_val)\n",
    "final_rmse = mean_squared_error(y_val, y_val_pred, squared=False)\n",
    "print(f'Final Validation RMSE: {final_rmse}')\n",
    "\n",
    "# Predecir precios en test.csv\n",
    "test_df['Price_in_euros'] = model.predict(X_test)\n",
    "test_df[['laptop_ID', 'Price_in_euros']].to_csv(\"submission.csv\", index=False)\n",
    "\n",
    "\n"
   ]
  }
 ],
 "metadata": {
  "kernelspec": {
   "display_name": "Python 3",
   "language": "python",
   "name": "python3"
  },
  "language_info": {
   "codemirror_mode": {
    "name": "ipython",
    "version": 3
   },
   "file_extension": ".py",
   "mimetype": "text/x-python",
   "name": "python",
   "nbconvert_exporter": "python",
   "pygments_lexer": "ipython3",
   "version": "3.12.6"
  }
 },
 "nbformat": 4,
 "nbformat_minor": 2
}
